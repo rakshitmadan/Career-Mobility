{
 "cells": [
  {
   "cell_type": "code",
   "execution_count": 1,
   "id": "9f8875f0",
   "metadata": {},
   "outputs": [
    {
     "name": "stdout",
     "output_type": "stream",
     "text": [
      "Using the default year of 2021\n",
      "Using FIPS code '10' for input 'DE'\n"
     ]
    },
    {
     "name": "stderr",
     "output_type": "stream",
     "text": [
      "C:\\Users\\RakshitMadan\\AppData\\Local\\Temp\\ipykernel_18328\\1699430532.py:21: UserWarning: Geometry is in a geographic CRS. Results from 'area' are likely incorrect. Use 'GeoSeries.to_crs()' to re-project geometries to a projected CRS before this operation.\n",
      "\n",
      "  gdf = gdf[gdf.is_valid & (gdf.area > 0.0001)]\n"
     ]
    }
   ],
   "source": [
    "import geopandas as gpd\n",
    "import pandas as pd\n",
    "import folium\n",
    "from folium import Choropleth\n",
    "from folium import GeoJson, GeoJsonTooltip\n",
    "from pygris import tracts\n",
    "import branca\n",
    "import os\n",
    "\n",
    "data = pd.read_csv(\"Census_data_binned_v2.csv\")\n",
    "\n",
    "# Load tracts for Delaware\n",
    "DE_tracts = tracts(state=\"DE\", cb=True, cache=True)\n",
    "DE_tracts['GEOID'] = DE_tracts['GEOID'].astype('int64')\n",
    "\n",
    "# Merge with data\n",
    "merged_df = pd.merge(DE_tracts, data, on='GEOID', how='left')\n",
    "gdf = gpd.GeoDataFrame(merged_df, geometry='geometry')\n",
    "\n",
    "# Filter valid geometries\n",
    "gdf = gdf[gdf.is_valid & (gdf.area > 0.0001)]\n",
    "\n",
    "# Initialize the map\n",
    "m = folium.Map(location=[39.0, -75.5], zoom_start=8.2, tiles=\"CartoDB positron\")"
   ]
  },
  {
   "cell_type": "code",
   "execution_count": 2,
   "id": "79b991ae",
   "metadata": {},
   "outputs": [],
   "source": [
    "def create_map(data, gdf, metric, bin_column, file_name):\n",
    "    # Ensure bins are sorted numerically\n",
    "    unique_bins = gdf[bin_column].dropna().unique()\n",
    "    # Convert bins to float for sorting (assuming bins are like '0.0-4.29%')\n",
    "    unique_bins = sorted(unique_bins, key=lambda x: float(x.split('-')[0]))\n",
    "    \n",
    "    # Define colors for the bins (YlOrRd scale with enough colors for bins)\n",
    "    colors = [\n",
    "        \"#ffffcc\",  # Lightest color for smallest values\n",
    "        \"#fed976\",  \n",
    "        \"#fd8d3c\",  \n",
    "        \"#f03b20\",  \n",
    "        \"#bd0026\"   # Darkest color for largest values\n",
    "    ]  # Modify or extend this list based on the number of unique bins\n",
    "\n",
    "    # Create a dynamic color mapping\n",
    "    color_mapping = {bin_val: colors[i % len(colors)] for i, bin_val in enumerate(unique_bins)}\n",
    "\n",
    "    def bin_color(feature):\n",
    "        \"\"\"Return the color based on the bin_column.\"\"\"\n",
    "        bin_value = feature['properties'].get(bin_column)\n",
    "        return color_mapping.get(bin_value, 'gray')  # Default to gray if bin is missing\n",
    "\n",
    "    # Initialize the map\n",
    "    m = folium.Map(location=[39.0, -75.5], zoom_start=8.2, tiles=\"CartoDB positron\")\n",
    "\n",
    "    # Add GeoJson layer\n",
    "    folium.GeoJson(\n",
    "        gdf,\n",
    "        style_function=lambda feature: {\n",
    "            'fillColor': bin_color(feature),  # Use bin_color for color mapping\n",
    "            'color': 'black',  # Boundary line color\n",
    "            'weight': 0.5,  # Boundary line width\n",
    "            'fillOpacity': 0.7,  # Transparency of fill color\n",
    "        },\n",
    "        tooltip=GeoJsonTooltip(\n",
    "            fields=[metric, bin_column, \"NAMELSAD\", \"NAMELSADCO\", \"STATE_NAME\",\"Total Population\"],  # Add fields\n",
    "            aliases=[\n",
    "                f\"{metric.replace('_', ' ').title()}:\",\n",
    "                f\"{bin_column.replace('_', ' ').title()}:\",\n",
    "                \"Tract Name:\",\n",
    "                \"County Name:\",\n",
    "                \"State Name:\",\n",
    "                \"Total Population:\"\n",
    "            ],\n",
    "            localize=True\n",
    "        )\n",
    "    ).add_to(m)\n",
    "\n",
    "    # Dynamically generate legend HTML with percentage signs\n",
    "    legend_html = f\"\"\"\n",
    "    <div style=\"\n",
    "        position: fixed;\n",
    "        bottom: 50px;\n",
    "        left: 50px;\n",
    "        width: 200px;\n",
    "        height: auto;\n",
    "        background-color: white;\n",
    "        border:2px solid grey;\n",
    "        z-index:9999;\n",
    "        font-size:14px;\n",
    "        padding: 10px;\n",
    "        \">\n",
    "        <b>Legend</b><br>\n",
    "    \"\"\"\n",
    "    for bin_val, color in color_mapping.items():\n",
    "        legend_html += f\"\"\"\n",
    "        <i style=\"background: {color}; width: 10px; height: 10px; display: inline-block;\"></i> {bin_val}%<br>\n",
    "    \"\"\"\n",
    "    legend_html += \"</div>\"\n",
    "\n",
    "    # Add the legend to the map\n",
    "    m.get_root().html.add_child(folium.Element(legend_html))\n",
    "\n",
    "    # Save the map\n",
    "    os.makedirs(os.path.dirname(file_name), exist_ok=True)  # Ensure the directory exists\n",
    "    m.save(file_name)\n",
    "    print(f\"Map saved as: {file_name}\")"
   ]
  },
  {
   "cell_type": "code",
   "execution_count": 3,
   "id": "1efb0ddc",
   "metadata": {},
   "outputs": [
    {
     "name": "stdout",
     "output_type": "stream",
     "text": [
      "Map saved as: Maps_3/Pct_hh_snap_map.html\n",
      "Map saved as: Maps_3/Pct_noHealthInsurance_map.html\n",
      "Map saved as: Maps_3/Pct_internet_map.html\n",
      "Map saved as: Maps_3/pct_rentBurdenend_map.html\n",
      "Map saved as: Maps_3/Pct_transportAccess_map.html\n",
      "Map saved as: Maps_3/Pct_deviceAccess_map.html\n",
      "Map saved as: Maps_3/Pct_minority_map.html\n",
      "Map saved as: Maps_3/Pct_HsGrad_map.html\n",
      "Map saved as: Maps_3/Unemployment_Rate_map.html\n",
      "Map saved as: Maps_3/Pct_nonNative_map.html\n",
      "Map saved as: Maps_3/Income_Inequality_(GINI_Index)_map.html\n"
     ]
    }
   ],
   "source": [
    "# Metrics and their bin range columns\n",
    "metrics = {\n",
    "    \"Pct_hh_snap\":\"Pct_hh_snap_bin_range\",\n",
    "    \"Pct_noHealthInsurance\": \"Pct_noHealthInsurance_bin_range\",\n",
    "    \"Pct_internet\": \"Pct_internet_bin_range\",\n",
    "    \"pct_rentBurdenend\": \"pct_rentBurdenend_bin_range\",\n",
    "    \"Pct_transportAccess\": \"Pct_transportAccess_bin_range\",\n",
    "    \"Pct_deviceAccess\": \"Pct_deviceAccess_bin_range\",\n",
    "    \"Pct_minority\": \"Pct_minority_bin_range\",\n",
    "    \"Pct_HsGrad\": \"Pct_HsGrad_bin_range\",\n",
    "    \"Unemployment Rate\":\"Unemployment Rate_bin_range\",\n",
    "    \"Pct_nonNative\": \"Pct_nonNative_bin_range\",\n",
    "    \"Income Inequality (GINI Index)\": \"Income Inequality (GINI Index)_bin_range\"\n",
    "}\n",
    "\n",
    "# Create maps for each metric and save to \"Maps 3\" folder\n",
    "for metric, bin_column in metrics.items():\n",
    "    file_name = f\"Maps 3/{metric}_map.html\".replace(\" \", \"_\")  # Save files with clean names in Maps 3 folder\n",
    "    create_map(data, gdf, metric, bin_column, file_name)"
   ]
  }
 ],
 "metadata": {
  "kernelspec": {
   "display_name": "Python 3 (ipykernel)",
   "language": "python",
   "name": "python3"
  },
  "language_info": {
   "codemirror_mode": {
    "name": "ipython",
    "version": 3
   },
   "file_extension": ".py",
   "mimetype": "text/x-python",
   "name": "python",
   "nbconvert_exporter": "python",
   "pygments_lexer": "ipython3",
   "version": "3.12.3"
  }
 },
 "nbformat": 4,
 "nbformat_minor": 5
}
